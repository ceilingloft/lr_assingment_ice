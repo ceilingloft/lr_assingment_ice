{
 "cells": [
  {
   "cell_type": "markdown",
   "id": "c3e84298-00b1-4590-bc7a-78622eb62519",
   "metadata": {},
   "source": [
    "# Task-2 Data Wrangling\n",
    "\n",
    "The team wants to understand whether the “Apprehension Site Landmark” column could provide clues about potential partnerships between local and state law enforcement and ICE.\n",
    "\n",
    "Use this column to help identify which **jail** or **prison** individuals have been taken to, where available. Add:\n",
    "* one column to the dataset indicating the name of the facility\n",
    "* another showing the county where that facility is located"
   ]
  },
  {
   "cell_type": "markdown",
   "id": "26ee47a8-d5ac-43bc-836d-41ab1e162f34",
   "metadata": {},
   "source": [
    "## 0. Set up"
   ]
  },
  {
   "cell_type": "code",
   "execution_count": 1,
   "id": "ebb6ba1d-048d-46d1-aa4e-4fe6ceb5d548",
   "metadata": {},
   "outputs": [],
   "source": [
    "from pathlib import Path\n",
    "from datetime import datetime\n",
    "\n",
    "import numpy as np\n",
    "import pandas as pd\n",
    "import re\n",
    "\n",
    "import process_data"
   ]
  },
  {
   "cell_type": "code",
   "execution_count": 2,
   "id": "5d8dbe4a-4c0c-422e-8650-3be1ae74c537",
   "metadata": {},
   "outputs": [],
   "source": [
    "arrests_filename = 'arrests-0923-0625.csv'\n",
    "cwd = Path.cwd()\n",
    "root = cwd.parent\n",
    "data = root / \"data\""
   ]
  },
  {
   "cell_type": "code",
   "execution_count": 3,
   "id": "540378fc-28b9-4ca7-a40d-7ff3b18a92aa",
   "metadata": {},
   "outputs": [],
   "source": [
    "arrests_df = process_data.read_arrests_data(data/arrests_filename)"
   ]
  },
  {
   "cell_type": "markdown",
   "id": "9346d84e-0025-4bb5-9984-05747247f015",
   "metadata": {},
   "source": [
    "## 1 - Apprehension Site Landmark - data exploration\n",
    "\n",
    "Quick scan of data to understand different formats in the field:"
   ]
  },
  {
   "cell_type": "code",
   "execution_count": 4,
   "id": "7a0b6c25-cd0d-459f-ac43-485b558b66b8",
   "metadata": {
    "scrolled": true
   },
   "outputs": [
    {
     "data": {
      "text/plain": [
       "apprehension_site_landmark\n",
       "DALLAS COUNTY GENERAL AREA                             11103\n",
       "MTG GENERAL AREA, NON-SPECIFIC                          9009\n",
       "NDD - 26 FEDERAL PLAZA NY, NY                           5803\n",
       "HARRIS COUNTY JAIL, HOUSTON, TX                         4713\n",
       "LOS ANGELES COUNTY GENERAL AREA, NON-SPECIFIC           4387\n",
       "HLG GENERAL AREA, NON-SPECIFIC                          3535\n",
       "ATLANTA, GA                                             3442\n",
       "SNA GENERAL AREA, NON-SPECIFIC                          3357\n",
       "AUS GENERAL AREA, NON-SPECIFIC                          2869\n",
       "FUGITIVE OPERATIONS MA                                  2827\n",
       "CAP - MARICOPA COUNTY SHERIFFS OFFICE JAIL              2732\n",
       "MIRAMAR ICE/ERO SUB-OFFICE                              2465\n",
       "WAS GENERAL AREA, NON-SPECIFIC                          2359\n",
       "MIAMI DADE COUNTY JAIL TURNER GUILFORD KNIGHT (TGK)     2334\n",
       "EDN GENERAL AREA, NON-SPECIFIC                          2227\n",
       "ICE ERO NEWARK                                          2141\n",
       "SLC GENERAL AREA, NON-SPECIFIC                          2098\n",
       "WALKINS AT SAN ANTONIO                                  1999\n",
       "DLR GENERAL AREA, NON-SPECIFIC                          1833\n",
       "CHI GENERAL AREA, NON-SPECIFIC                          1818\n",
       "Name: count, dtype: int64"
      ]
     },
     "execution_count": 4,
     "metadata": {},
     "output_type": "execute_result"
    }
   ],
   "source": [
    "arrests_df['apprehension_site_landmark'].value_counts().head(20)"
   ]
  },
  {
   "cell_type": "markdown",
   "id": "aa729f4e-675b-40f1-b499-542bc6eddc63",
   "metadata": {},
   "source": [
    "A lot of `GENERAL AREA, NON-SPECIFIC`, which are not relevant for this task as they do not tell us about any partnerships or any jails or prisons. Removing them to get a better look at the types of variables in this field:"
   ]
  },
  {
   "cell_type": "code",
   "execution_count": 5,
   "id": "f174395c-822e-46bb-9404-712d67d52b34",
   "metadata": {
    "scrolled": true
   },
   "outputs": [
    {
     "data": {
      "text/plain": [
       "apprehension_site_landmark\n",
       "BENTON COUNTY JAIL 287(G)                              498\n",
       "LIMESTONE COUNTY DETENTION CENTER, GROESBECK, TEXAS    493\n",
       "FUGITIVE OPERATIONS NY STATE                           488\n",
       "FTM-LEE COUNTY JAIL                                    475\n",
       "FUGITIVE OPERATIONS CA STATE                           458\n",
       "TRAVIS COUNTY JAIL, AUSTIN, TEXAS - TX2270000          433\n",
       "TAM-POLK COUNTY JAIL                                   432\n",
       "STUART-MARTIN COUNTY JAIL, FLORIDA                     416\n",
       "FEDERAL PRISON LOMPOC MEDIUM                           407\n",
       "UNION COUNTY JAIL                                      404\n",
       "FEDERAL PRISON LOMPOC FCI II                           403\n",
       "GWINNETT COUNTY JAIL                                   402\n",
       "MCAT AZ STATE                                          401\n",
       "WCD GENERAL AREA                                       400\n",
       "HUDSON COUNTY JAIL                                     398\n",
       "FAYETTE COUNTY CORRECTIONS, KY                         396\n",
       "US PENITENTIARY THOMSON                                391\n",
       "ERIE COUNTY                                            384\n",
       "JACKSONVILLE FL ERO                                    383\n",
       "USICE MARLTON HOLDING CELL                             379\n",
       "STUART-FMI-FLORIDA                                     378\n",
       "FUG / AT-LARGE IN PHILADELPHIA, PA                     377\n",
       "MEMPHIS ERO OFFICE                                     377\n",
       "BENTON COUNTY JAIL                                     368\n",
       "BALTIMORE CITY, MARYLAND                               367\n",
       "NORTHERN VIRGINIA AREA                                 358\n",
       "TAM-PINELLAS COUNTY JAIL                               358\n",
       "WEST TEXAS DETENTION FACILITY                          331\n",
       "FCI POLLOCK                                            327\n",
       "STUART-PALM BEACH COUNTY JAIL, FLORIDA                 324\n",
       "ROSWELL, NM SUB-OFFICE, NM                             323\n",
       "STUART-STREET ARREST                                   323\n",
       "CLEVELAND ERO OFFICE                                   318\n",
       "VENTURA FUGITIVE OPERATIONS                            314\n",
       "UTAH COUNTY JAIL - UT                                  312\n",
       "NORGEN                                                 311\n",
       "TAM-MANATEE COUNTY JAIL                                311\n",
       "WILLIAMSON COUNTY JAIL, GEORGETOWN, TEXAS              310\n",
       "MCLENNAN COUNTY JAIL, WACO, TEXAS                      309\n",
       "PHI AOR FUGITIVE OPERATIONS                            307\n",
       "LAS VEGAS FUGITIVE OPERATIONS                          303\n",
       "COBB COUNTY, GA                                        301\n",
       "AVENAL STATE PRISON                                    300\n",
       "TAM-CYPRESS                                            298\n",
       "ERO OFFICE DELEGATES DRIVE                             297\n",
       "LOUISVILLE FUGITIVE OPS ARREST                         295\n",
       "RUTHERFORD COUNTY JAIL, TN                             294\n",
       "NORTHWEST DETENTION CENTER DETAINED DOCKET             293\n",
       "A - ERO-MIL KNAPP ST OFFICE                            293\n",
       "HOUSTON, NORTHEAST SIDE                                293\n",
       "Name: count, dtype: int64"
      ]
     },
     "execution_count": 5,
     "metadata": {},
     "output_type": "execute_result"
    }
   ],
   "source": [
    "arrests_df[~arrests_df['apprehension_site_landmark'].fillna('').str.contains('GENERAL AREA, NON-SPECIFIC')]['apprehension_site_landmark'].value_counts().iloc[50:100]"
   ]
  },
  {
   "cell_type": "code",
   "execution_count": 14,
   "id": "87779a73-396c-499c-a388-e08b9a9592eb",
   "metadata": {
    "scrolled": true
   },
   "outputs": [
    {
     "data": {
      "text/plain": [
       "apprehension_site_landmark\n",
       "FEDERAL PRISON LOMPOC MEDIUM                                    407\n",
       "FEDERAL PRISON LOMPOC FCI II                                    403\n",
       "AVENAL STATE PRISON                                             300\n",
       "PA STATE PRISON                                                 151\n",
       "IRONWOOD STATE PRISON BLYTHE, CA                                111\n",
       "US MEDICAL CENTER FOR FEDERAL PRISONERS, MISSOURI               106\n",
       "PLEASANT VALLEY STATE PRISON                                     99\n",
       "VALLEY STATE PRISON                                              86\n",
       "CORCORAN STATE PRISON                                            84\n",
       "HIGH DESERT STATE PRISON (NDOC)                                  78\n",
       "CAP-DAUPHIN COUNTY PRISON PA                                     74\n",
       "LIVINGSTON PARISH PRISON                                         69\n",
       "ASCENSION PARISH PRISON                                          67\n",
       "EAST BATON ROUGE PARISH PRISON                                   67\n",
       "CHESTER COUNTY PRISON                                            64\n",
       "FEDERAL PRISON LOMPOC LOW                                        63\n",
       "NORTHERN STATE PRISON                                            58\n",
       "CALIFORNIA SUBSTANCE ABUSE TREATMENT FACILITY & STATE PRISON     56\n",
       "DELAWARE COUNTY PRISON                                           52\n",
       "LACKAWANNA COUNTY PRISON                                         46\n",
       "DONOVAN STATE PRISON                                             42\n",
       "LEHIGH COUNTY PRISON                                             42\n",
       "CAP-BERKS COUNTY PRISON                                          41\n",
       "CAP-LANCASTER COUNTY PRISON PA                                   39\n",
       "CAP-CUMBERLAND COUNTY PRISON PA STATE                            37\n",
       "FEDERAL PRISON LOMPOC FCI I                                      34\n",
       "CAP-YORK COUNTY PRISON PA STATE                                  33\n",
       "CHUCKAWALLA VALLEY STATE PRISON BLYTHE, CA                       32\n",
       "BUREAU OF PRISONS, ENGLEWOOD, CO                                 31\n",
       "YORK COUNTY PRISON ICE OFFICE ARREST                             28\n",
       "WASCO STATE PRISON                                               25\n",
       "MULE CREEK STATE PRISON                                          24\n",
       "MONROE COUNTY PRISON                                             24\n",
       "SAN QUENTIN STATE PRISON (PRISON RECEPTION ) - CA                24\n",
       "BUREAU OF PRISONS- FEDERAL CORRECTIONAL INST.                    23\n",
       "NORTH KERN STATE PRISON                                          22\n",
       "CENTINELA STATE PRISON                                           22\n",
       "WEST TEXAS PRISON FACILITY                                       18\n",
       "BUTLER COUNTY PRISON                                             17\n",
       "UTAH STATE PRISON                                                15\n",
       "STATE PRISON-MARTIN C.I.                                         13\n",
       "SOUTHERN NEW MEXICO PRISON FACILITY                              13\n",
       "NORTHAMPTON COUNTY PRISON                                        13\n",
       "WESTMORELAND COUNTY PRISON                                       12\n",
       "KERN VALLEY STATE PRISON                                         11\n",
       "SAN QUENTIN STATE PRISON (MAIN) - CA                             10\n",
       "OTERO PRISON FACILITY                                            10\n",
       "SD STATE PRISON, SIOUX FALLS, SD                                 10\n",
       "TEHACHAPI STATE PRISON                                           10\n",
       "NEW HAMPSHIRE STATE PRISON FOR MEN                               10\n",
       "Name: count, dtype: int64"
      ]
     },
     "execution_count": 14,
     "metadata": {},
     "output_type": "execute_result"
    }
   ],
   "source": [
    "arrests_df[arrests_df['apprehension_site_landmark'].fillna('').str.contains('PRISON')]['apprehension_site_landmark'].value_counts().head(50)"
   ]
  },
  {
   "cell_type": "code",
   "execution_count": 18,
   "id": "b1ff5097-4e9d-4b82-9018-7c0e02944550",
   "metadata": {
    "scrolled": true
   },
   "outputs": [
    {
     "data": {
      "text/plain": [
       "apprehension_site_landmark\n",
       "HAMILTON COUNTY JAIL, TN                      206\n",
       "MIDDLESEX COUNTY JAIL                         201\n",
       "WEBER COUNTY JAIL - UT                        201\n",
       "STUART-SAINT LUCIE COUNTY JAIL, FLORIDA       199\n",
       "DAVIS COUNTY JAIL - UT                        196\n",
       "ADAMS COUNTY JAIL                             195\n",
       "HALL COUNTY JAIL - 287(G)                     194\n",
       "HAYS COUNTY JAIL, SAN MARCOS, TEXAS           193\n",
       "SUMNER COUNTY JAIL, TN                        184\n",
       "CAP - JEFFERSON COUNTY JAIL, AL STATE         178\n",
       "ESCAMBIA COUNTY JAIL                          168\n",
       "FT BEND CO JAIL, RICHMOND, TX                 167\n",
       "CAP - MADISON COUNTY JAIL, AL STATE           164\n",
       "OAKLAND COUNTY JAIL, PONTIAC, MI              163\n",
       "LUBBOCK COUNTY JAIL                           162\n",
       "BOONE COUNTY JAIL, KY                         161\n",
       "DENTON COUNTY JAIL                            160\n",
       "GALVESTON CO JAIL, GALVESTON, TX              156\n",
       "BERGEN COUNTY JAIL                            153\n",
       "ORL - BREVARD COUNTY JAIL FL STATE            153\n",
       "BEDFORD COUNTY JAIL, TN                       144\n",
       "PRINCE WILLIAM/MANASSAS REGIONAL JAIL - VA    143\n",
       "WASHINGTON COUNTY JAIL, UT                    140\n",
       "NEW HANOVER COUNTY JAIL                       139\n",
       "BLOUNT COUNTY JAIL, TN                        136\n",
       "CAP - TUSCALOOSA COUNTY JAIL, AL STATE        133\n",
       "GASTON COUNTY JAIL 287G                       132\n",
       "NUECES COUNTY JAIL                            132\n",
       "COLLIN COUNTY JAIL                            131\n",
       "COMAL COUNTY JAIL - TX0460000                 130\n",
       "KENT COUNTY JAIL, GRAND RAPIDS, MI            129\n",
       "CAP - WASHOE COUNTY JAIL, RENO, NEVADA        124\n",
       "BRAZORIA CO JAIL, ANGLETON, TX                124\n",
       "MORRIS COUNTY JAIL                            118\n",
       "SOMERSET COUNTY JAIL                          114\n",
       "ROCKINGHAM/HARRISONBURG REGIONAL JAIL - VA    113\n",
       "HAMBLIN COUNTY JAIL, TN                       113\n",
       "CAP - YAVAPAI COUNTY JAIL                     111\n",
       "SALINE COUNTY JAIL                            111\n",
       "MOBILE METRO JAIL, AL                         108\n",
       "ORL - MARION COUNTY JAIL FLORIDA STATE        107\n",
       "EL PASO COUNTY JAIL                           107\n",
       "PAM LYNCHNER STATE JAIL, HARRIS CO,TX         105\n",
       "SANTA ROSA COUNTY JAIL                        105\n",
       "JEFFERSON COUNTY JAIL                         105\n",
       "TAM-PASCO COUNTY JAIL                         104\n",
       "MINNEHAHA CO JAIL, SIOUX FALLS, SD            102\n",
       "BRAZOS CO JAIL, BRYAN, TX                     100\n",
       "BURNET COUNTY JAIL, BURNET, TEXAS             100\n",
       "CRAIGHEAD COUNTY JAIL                          98\n",
       "Name: count, dtype: int64"
      ]
     },
     "execution_count": 18,
     "metadata": {},
     "output_type": "execute_result"
    }
   ],
   "source": [
    "arrests_df[arrests_df['apprehension_site_landmark'].fillna('').str.contains('JAIL')]['apprehension_site_landmark'].value_counts().iloc[50:100]"
   ]
  },
  {
   "cell_type": "markdown",
   "id": "51559a79-d9f9-4462-a6d0-8a40b3124d21",
   "metadata": {},
   "source": [
    "#### Observations:\n",
    "\n",
    "* Quite a lot of times where State is not given along with County - Counties in different States can have the same name, so will have to keep this in mind\n",
    "* `ROCKINGHAM/HARRISONBURG REGIONAL JAIL` - `/` is a bit annoying, might need to clean that before extracting jail names\n",
    "* Codes before jail name, e.g. `ORL - MARION COUNTY JAIL FLORIDA STATE` - do we want to capture these too? `CAP` means `Criminal Alien Program`, so other codes could be names of programs too\n",
    "* Some state prisons only have abbreviations not names e.g. `PA STATE PRISON` instead of Pennsylvania"
   ]
  },
  {
   "cell_type": "markdown",
   "id": "319d0e5d-8ee4-4717-8f00-7cdc3c6184f5",
   "metadata": {},
   "source": [
    "## 2 - Working out how to extract data \n",
    "\n",
    "#### 1. County:"
   ]
  },
  {
   "cell_type": "code",
   "execution_count": 6,
   "id": "7f82ea1a-51fe-4731-ae7e-7a9bbb98b832",
   "metadata": {},
   "outputs": [],
   "source": [
    "county_expression = r\"((?:\\w+\\s){0,3}\\bCOUNTY)\""
   ]
  },
  {
   "cell_type": "markdown",
   "id": "2431e2d4-ce82-4637-b6dc-b7278582c989",
   "metadata": {},
   "source": [
    "(expression worked out [here](https://regex101.com/r/OXnqFf/1))"
   ]
  },
  {
   "cell_type": "code",
   "execution_count": 20,
   "id": "9d6e2edb-8491-49d3-86a2-6d48c5d034e6",
   "metadata": {},
   "outputs": [],
   "source": [
    "prog = re.compile(county_expression)\n",
    "result = prog.match('HALL COUNTY JAIL - 287(G)')"
   ]
  },
  {
   "cell_type": "code",
   "execution_count": 23,
   "id": "11affe8d-d0db-44d7-9c37-4d26eac75fe0",
   "metadata": {},
   "outputs": [
    {
     "data": {
      "text/plain": [
       "'HALL COUNTY'"
      ]
     },
     "execution_count": 23,
     "metadata": {},
     "output_type": "execute_result"
    }
   ],
   "source": [
    "result.group(0)"
   ]
  },
  {
   "cell_type": "markdown",
   "id": "a8c9f01f-1491-44f7-be48-51378c11a0c1",
   "metadata": {},
   "source": [
    "**But** - looks like some are abbreviated to county e.g. `FT BEND CO JAIL`, which is \"Fort Bend County Jail\"\n",
    "\n",
    "Will see how common this is:"
   ]
  },
  {
   "cell_type": "code",
   "execution_count": 32,
   "id": "ce4001a0-299d-495b-811b-2584b17b400d",
   "metadata": {},
   "outputs": [
    {
     "data": {
      "text/plain": [
       "apprehension_site_landmark\n",
       "N DIST TX LUBBOCK DIV LUBBOCK CO NON CRIM         242\n",
       "FT BEND CO JAIL, RICHMOND, TX                     167\n",
       "GALVESTON CO JAIL, GALVESTON, TX                  156\n",
       "BRAZORIA CO JAIL, ANGLETON, TX                    124\n",
       "MINNEHAHA CO JAIL, SIOUX FALLS, SD                102\n",
       "                                                 ... \n",
       "N DIST TX LUBBOCK DIV LYNN CO CRIM AT LARGE         1\n",
       "N DIST TX AMARILLO DIV CARSON CO CRIM AT LARGE      1\n",
       "HUGHES CO JAIL, PIERRE, SD                          1\n",
       "N DIST TX AMARILLO DIV PARMER CO CRIM AT LARGE      1\n",
       "N DIST TX LUBBOCK DIV LYNN CO P&P AT LARGE          1\n",
       "Name: count, Length: 148, dtype: int64"
      ]
     },
     "execution_count": 32,
     "metadata": {},
     "output_type": "execute_result"
    }
   ],
   "source": [
    "arrests_df[arrests_df['apprehension_site_landmark'].fillna('').str.contains(' CO ')]['apprehension_site_landmark'].value_counts()"
   ]
  },
  {
   "cell_type": "markdown",
   "id": "cc605e19-574a-4edb-93a3-18628d95014a",
   "metadata": {},
   "source": [
    "\n",
    "Ok so definitely something to account for. Some of these don't seem to be jails/prisons though \n",
    "\n",
    "It looks like it's fine to replace 'CO' with 'COUNTY', and then treat them the same as the other 'COUNTY' entries:"
   ]
  },
  {
   "cell_type": "code",
   "execution_count": 10,
   "id": "e87c8d71-006f-402a-910e-d2864bd47655",
   "metadata": {
    "scrolled": true
   },
   "outputs": [
    {
     "data": {
      "text/plain": [
       "apprehension_site_landmark\n",
       "FT BEND CO JAIL, RICHMOND, TX          167\n",
       "GALVESTON CO JAIL, GALVESTON, TX       156\n",
       "BRAZORIA CO JAIL, ANGLETON, TX         124\n",
       "MINNEHAHA CO JAIL, SIOUX FALLS, SD     102\n",
       "BRAZOS CO JAIL, BRYAN, TX              100\n",
       "BROOKINGS CO JAIL, BROOKINGS, SD        33\n",
       "DAVISON CO JAIL, MITCHELL, SD           28\n",
       "JEFFERSON CO JAIL, BEAUMONT TX          27\n",
       "CHAMBERS CO JAIL, ANAHUAC, TX           12\n",
       "LAKE CO JAIL, MADISON, SD                9\n",
       "FAYETTE CO JAIL, LA GRANGE, TX           7\n",
       "BROWN CO JAIL, ABERDEEN, SD              5\n",
       "NOBLES CO JAIL, WORTHINGTON, MN          5\n",
       "BURLESON CO JAIL, CALDWELL, TX           5\n",
       "COTTONWOOD CO JAIL, WINDOM, MN           4\n",
       "ROBERTS CO JAIL, SISSETON, SD            3\n",
       "DEWITT CO JAIL, CUERO, TX                3\n",
       "MINER CO JAIL, HOWARD, SD                3\n",
       "JEFFERSON CO JAIL, BEAUMONT, TX          2\n",
       "CALHOUN CO JAIL, PORT LAVACA, TX         2\n",
       "FAULK CO JAIL, FAULKTON, SD              2\n",
       "TRIPP CO JAIL, WINNER, SD                1\n",
       "HUGHES CO JAIL, PIERRE, SD               1\n",
       "CHARLES MIX CO JAIL, LAKE ANDES, SD      1\n",
       "UNION CO JAIL, ELK POINT, SD             1\n",
       "ROSEAU CO JAIL, ROSEAU, MN               1\n",
       "Name: count, dtype: int64"
      ]
     },
     "execution_count": 10,
     "metadata": {},
     "output_type": "execute_result"
    }
   ],
   "source": [
    "arrests_df[\n",
    "    (arrests_df['apprehension_site_landmark'].fillna('').str.contains(' CO ')) & \n",
    "    (arrests_df['apprehension_site_landmark'].fillna('').str.contains('JAIL'))\n",
    "    ]['apprehension_site_landmark'].value_counts()"
   ]
  },
  {
   "cell_type": "code",
   "execution_count": 11,
   "id": "c709f0c7-d6e0-4ae5-a45c-c98aff45a663",
   "metadata": {},
   "outputs": [],
   "source": [
    "arrests_df['apprehension_site_landmark'] = arrests_df['apprehension_site_landmark'].str.replace(' CO ', ' COUNTY ')"
   ]
  },
  {
   "cell_type": "markdown",
   "id": "5dedc292-38d1-44e3-b619-8fc23e942ab7",
   "metadata": {},
   "source": [
    "#### 2. Jail\n",
    "\n",
    "Location information always seems to be before \"JAIL\", so can use the same expression"
   ]
  },
  {
   "cell_type": "code",
   "execution_count": 8,
   "id": "0f04e81f-54f9-47eb-8c34-aac6c90db13b",
   "metadata": {},
   "outputs": [],
   "source": [
    "jail_expression = r\"((?:\\w+\\s){0,3}\\bJAIL)\""
   ]
  },
  {
   "cell_type": "code",
   "execution_count": 75,
   "id": "8173a4bb-0978-46c5-88ab-29a1da7e8f73",
   "metadata": {},
   "outputs": [],
   "source": [
    "prog = re.compile(jail_expression)\n",
    "result = prog.match('HALL COUNTY JAIL - 287(G)')"
   ]
  },
  {
   "cell_type": "code",
   "execution_count": 83,
   "id": "387ea0df-4105-45e4-9b87-be9c0fcbfe43",
   "metadata": {},
   "outputs": [
    {
     "data": {
      "text/plain": [
       "'HALL COUNTY JAIL'"
      ]
     },
     "execution_count": 83,
     "metadata": {},
     "output_type": "execute_result"
    }
   ],
   "source": [
    "result.group(0)"
   ]
  },
  {
   "cell_type": "markdown",
   "id": "de71a281-c755-42fc-96ea-e2f7ae8ca0fa",
   "metadata": {},
   "source": [
    "#### 3. Prison\n",
    "\n",
    "Note - limitations and assumptions with this to explore in future work:\n",
    "* Assumption that federal prisons are outside the scope of this project?\n",
    "* Losing any location information that happens after \"PRISON\" - this could be improved in future work, but this appears to catch the majority of the cases"
   ]
  },
  {
   "cell_type": "code",
   "execution_count": 9,
   "id": "6f46a8fe-31cc-4bbb-a145-77661d4c7673",
   "metadata": {},
   "outputs": [],
   "source": [
    "prison_expression = r\"((?:\\w+\\s){0,3}\\bPRISON)\""
   ]
  },
  {
   "cell_type": "markdown",
   "id": "0eccfdb3-2ea6-4bf5-812f-c1d97dc41ab9",
   "metadata": {},
   "source": [
    "## 3- Extracting the relevant information"
   ]
  },
  {
   "cell_type": "code",
   "execution_count": 12,
   "id": "1ad16a1a-a0e7-424a-bfa0-85f115645b14",
   "metadata": {},
   "outputs": [],
   "source": [
    "arrests_df['county'] = arrests_df['apprehension_site_landmark'].str.extract(county_expression)"
   ]
  },
  {
   "cell_type": "markdown",
   "id": "e34169d6-e096-4def-9338-5089eebf2aef",
   "metadata": {},
   "source": [
    "**NOTE** - this is a bit of a clunky way to do it, if I get time I will come back to this, otherwise this is something that could be improved in the next stage of this work"
   ]
  },
  {
   "cell_type": "code",
   "execution_count": 13,
   "id": "ee68957a-ea9c-4e33-9198-1d21f6ff4c2c",
   "metadata": {},
   "outputs": [],
   "source": [
    "arrests_df['jail'] = arrests_df['apprehension_site_landmark'].str.extract(jail_expression)"
   ]
  },
  {
   "cell_type": "code",
   "execution_count": 14,
   "id": "bf59655f-0d03-49d3-a77e-b10402dc1ae2",
   "metadata": {},
   "outputs": [],
   "source": [
    "arrests_df['prison'] = arrests_df['apprehension_site_landmark'].str.extract(prison_expression)"
   ]
  },
  {
   "cell_type": "code",
   "execution_count": 15,
   "id": "455232ff-fcd0-4b8d-85a8-406bf1a97200",
   "metadata": {},
   "outputs": [],
   "source": [
    "arrests_df['facility'] = np.where(\n",
    "                            ~arrests_df['jail'].isna(), arrests_df['jail'], np.where(\n",
    "                            ~arrests_df['prison'].isna(), arrests_df['prison'], None))"
   ]
  },
  {
   "cell_type": "code",
   "execution_count": 16,
   "id": "f7aca986-8900-40b7-817c-5940cf2b8ae4",
   "metadata": {},
   "outputs": [],
   "source": [
    "arrests_df['county'] = np.where(\n",
    "                        ~arrests_df['facility'].isna(), arrests_df['county'], None)"
   ]
  },
  {
   "cell_type": "code",
   "execution_count": 17,
   "id": "c31c4d43-2d8f-4451-b1c0-20404cf4fdc1",
   "metadata": {},
   "outputs": [
    {
     "data": {
      "text/html": [
       "<div>\n",
       "<style scoped>\n",
       "    .dataframe tbody tr th:only-of-type {\n",
       "        vertical-align: middle;\n",
       "    }\n",
       "\n",
       "    .dataframe tbody tr th {\n",
       "        vertical-align: top;\n",
       "    }\n",
       "\n",
       "    .dataframe thead th {\n",
       "        text-align: right;\n",
       "    }\n",
       "</style>\n",
       "<table border=\"1\" class=\"dataframe\">\n",
       "  <thead>\n",
       "    <tr style=\"text-align: right;\">\n",
       "      <th></th>\n",
       "      <th>apprehension_date</th>\n",
       "      <th>apprehension_state</th>\n",
       "      <th>apprehension_aor</th>\n",
       "      <th>final_program</th>\n",
       "      <th>apprehension_method</th>\n",
       "      <th>apprehension_criminality</th>\n",
       "      <th>case_status</th>\n",
       "      <th>case_category</th>\n",
       "      <th>departed_date</th>\n",
       "      <th>departure_country</th>\n",
       "      <th>final_order_yes_no</th>\n",
       "      <th>birth_year</th>\n",
       "      <th>citizenship_country</th>\n",
       "      <th>gender</th>\n",
       "      <th>apprehension_site_landmark</th>\n",
       "      <th>unique_identifier</th>\n",
       "      <th>county</th>\n",
       "      <th>jail</th>\n",
       "      <th>prison</th>\n",
       "      <th>facility</th>\n",
       "    </tr>\n",
       "  </thead>\n",
       "  <tbody>\n",
       "    <tr>\n",
       "      <th>0</th>\n",
       "      <td>2024-08-07 09:43:00</td>\n",
       "      <td>VIRGINIA</td>\n",
       "      <td>WASHINGTON AREA OF RESPONSIBILITY</td>\n",
       "      <td>ERO CRIMINAL ALIEN PROGRAM</td>\n",
       "      <td>NON-CUSTODIAL ARREST</td>\n",
       "      <td>1 CONVICTED CRIMINAL</td>\n",
       "      <td>8-EXCLUDED/REMOVED - INADMISSIBILITY</td>\n",
       "      <td>[16] REINSTATED FINAL ORDER</td>\n",
       "      <td>2024-08-19</td>\n",
       "      <td>HONDURAS</td>\n",
       "      <td>YES</td>\n",
       "      <td>1981</td>\n",
       "      <td>HONDURAS</td>\n",
       "      <td>MALE</td>\n",
       "      <td>HBG GENERAL AREA, NON-SPECIFIC</td>\n",
       "      <td>0000b34edd657d516c02b13a7c352d62d0effcb6</td>\n",
       "      <td>None</td>\n",
       "      <td>NaN</td>\n",
       "      <td>NaN</td>\n",
       "      <td>None</td>\n",
       "    </tr>\n",
       "    <tr>\n",
       "      <th>1</th>\n",
       "      <td>2024-10-19 08:33:00</td>\n",
       "      <td>TEXAS</td>\n",
       "      <td>HOUSTON AREA OF RESPONSIBILITY</td>\n",
       "      <td>ERO CRIMINAL ALIEN PROGRAM</td>\n",
       "      <td>CAP LOCAL INCARCERATION</td>\n",
       "      <td>1 CONVICTED CRIMINAL</td>\n",
       "      <td>6-DEPORTED/REMOVED - DEPORTABILITY</td>\n",
       "      <td>[16] REINSTATED FINAL ORDER</td>\n",
       "      <td>2024-10-22</td>\n",
       "      <td>MEXICO</td>\n",
       "      <td>YES</td>\n",
       "      <td>1984</td>\n",
       "      <td>MEXICO</td>\n",
       "      <td>MALE</td>\n",
       "      <td>HARRIS COUNTY JAIL, HOUSTON, TX</td>\n",
       "      <td>0000ba6e459998a6046d185d82cf4349de1479d0</td>\n",
       "      <td>HARRIS COUNTY</td>\n",
       "      <td>HARRIS COUNTY JAIL</td>\n",
       "      <td>NaN</td>\n",
       "      <td>HARRIS COUNTY JAIL</td>\n",
       "    </tr>\n",
       "    <tr>\n",
       "      <th>2</th>\n",
       "      <td>2025-04-15 10:08:00</td>\n",
       "      <td>NEW JERSEY</td>\n",
       "      <td>NEWARK AREA OF RESPONSIBILITY</td>\n",
       "      <td>ERO CRIMINAL ALIEN PROGRAM</td>\n",
       "      <td>CAP FEDERAL INCARCERATION</td>\n",
       "      <td>1 CONVICTED CRIMINAL</td>\n",
       "      <td>8-EXCLUDED/REMOVED - INADMISSIBILITY</td>\n",
       "      <td>[16] REINSTATED FINAL ORDER</td>\n",
       "      <td>2025-06-10</td>\n",
       "      <td>DOMINICAN REPUBLIC</td>\n",
       "      <td>YES</td>\n",
       "      <td>1988</td>\n",
       "      <td>DOMINICAN REPUBLIC</td>\n",
       "      <td>MALE</td>\n",
       "      <td>FORT DIX EAST, NEW JERSEY</td>\n",
       "      <td>0000c3d23fb0e444864559575900d410c4e8490f</td>\n",
       "      <td>None</td>\n",
       "      <td>NaN</td>\n",
       "      <td>NaN</td>\n",
       "      <td>None</td>\n",
       "    </tr>\n",
       "    <tr>\n",
       "      <th>3</th>\n",
       "      <td>2025-06-03 09:20:00</td>\n",
       "      <td>MINNESOTA</td>\n",
       "      <td>ST. PAUL AREA OF RESPONSIBILITY</td>\n",
       "      <td>FUGITIVE OPERATIONS</td>\n",
       "      <td>NON-CUSTODIAL ARREST</td>\n",
       "      <td>3 OTHER IMMIGRATION VIOLATOR</td>\n",
       "      <td>ACTIVE</td>\n",
       "      <td>[8G] EXPEDITED REMOVAL - CREDIBLE FEAR REFERRAL</td>\n",
       "      <td>NaT</td>\n",
       "      <td>NaN</td>\n",
       "      <td>YES</td>\n",
       "      <td>1985</td>\n",
       "      <td>COLOMBIA</td>\n",
       "      <td>FEMALE</td>\n",
       "      <td>SPM GENERAL AREA, NON-SPECIFIC</td>\n",
       "      <td>0000d3dbf8033b5f209f6547ffee5b84feb4f599</td>\n",
       "      <td>None</td>\n",
       "      <td>NaN</td>\n",
       "      <td>NaN</td>\n",
       "      <td>None</td>\n",
       "    </tr>\n",
       "    <tr>\n",
       "      <th>4</th>\n",
       "      <td>2025-01-21 05:41:00</td>\n",
       "      <td>NaN</td>\n",
       "      <td>MIAMI AREA OF RESPONSIBILITY</td>\n",
       "      <td>ERO CRIMINAL ALIEN PROGRAM</td>\n",
       "      <td>CAP LOCAL INCARCERATION</td>\n",
       "      <td>2 PENDING CRIMINAL CHARGES</td>\n",
       "      <td>3-VOLUNTARY DEPARTURE CONFIRMED</td>\n",
       "      <td>[8C] EXCLUDABLE / INADMISSIBLE - ADMINISTRATIV...</td>\n",
       "      <td>2025-02-01</td>\n",
       "      <td>MEXICO</td>\n",
       "      <td>YES</td>\n",
       "      <td>1983</td>\n",
       "      <td>MEXICO</td>\n",
       "      <td>MALE</td>\n",
       "      <td>MIAMI DADE COUNTY JAIL TURNER GUILFORD KNIGHT ...</td>\n",
       "      <td>000104d730bf021326c6dc0deb3dd575304136b5</td>\n",
       "      <td>MIAMI DADE COUNTY</td>\n",
       "      <td>MIAMI DADE COUNTY JAIL</td>\n",
       "      <td>NaN</td>\n",
       "      <td>MIAMI DADE COUNTY JAIL</td>\n",
       "    </tr>\n",
       "  </tbody>\n",
       "</table>\n",
       "</div>"
      ],
      "text/plain": [
       "    apprehension_date apprehension_state                   apprehension_aor  \\\n",
       "0 2024-08-07 09:43:00           VIRGINIA  WASHINGTON AREA OF RESPONSIBILITY   \n",
       "1 2024-10-19 08:33:00              TEXAS     HOUSTON AREA OF RESPONSIBILITY   \n",
       "2 2025-04-15 10:08:00         NEW JERSEY      NEWARK AREA OF RESPONSIBILITY   \n",
       "3 2025-06-03 09:20:00          MINNESOTA    ST. PAUL AREA OF RESPONSIBILITY   \n",
       "4 2025-01-21 05:41:00                NaN       MIAMI AREA OF RESPONSIBILITY   \n",
       "\n",
       "                final_program        apprehension_method  \\\n",
       "0  ERO CRIMINAL ALIEN PROGRAM       NON-CUSTODIAL ARREST   \n",
       "1  ERO CRIMINAL ALIEN PROGRAM    CAP LOCAL INCARCERATION   \n",
       "2  ERO CRIMINAL ALIEN PROGRAM  CAP FEDERAL INCARCERATION   \n",
       "3         FUGITIVE OPERATIONS       NON-CUSTODIAL ARREST   \n",
       "4  ERO CRIMINAL ALIEN PROGRAM    CAP LOCAL INCARCERATION   \n",
       "\n",
       "       apprehension_criminality                           case_status  \\\n",
       "0          1 CONVICTED CRIMINAL  8-EXCLUDED/REMOVED - INADMISSIBILITY   \n",
       "1          1 CONVICTED CRIMINAL    6-DEPORTED/REMOVED - DEPORTABILITY   \n",
       "2          1 CONVICTED CRIMINAL  8-EXCLUDED/REMOVED - INADMISSIBILITY   \n",
       "3  3 OTHER IMMIGRATION VIOLATOR                                ACTIVE   \n",
       "4    2 PENDING CRIMINAL CHARGES       3-VOLUNTARY DEPARTURE CONFIRMED   \n",
       "\n",
       "                                       case_category departed_date  \\\n",
       "0                        [16] REINSTATED FINAL ORDER    2024-08-19   \n",
       "1                        [16] REINSTATED FINAL ORDER    2024-10-22   \n",
       "2                        [16] REINSTATED FINAL ORDER    2025-06-10   \n",
       "3    [8G] EXPEDITED REMOVAL - CREDIBLE FEAR REFERRAL           NaT   \n",
       "4  [8C] EXCLUDABLE / INADMISSIBLE - ADMINISTRATIV...    2025-02-01   \n",
       "\n",
       "    departure_country final_order_yes_no  birth_year citizenship_country  \\\n",
       "0            HONDURAS                YES        1981            HONDURAS   \n",
       "1              MEXICO                YES        1984              MEXICO   \n",
       "2  DOMINICAN REPUBLIC                YES        1988  DOMINICAN REPUBLIC   \n",
       "3                 NaN                YES        1985            COLOMBIA   \n",
       "4              MEXICO                YES        1983              MEXICO   \n",
       "\n",
       "   gender                         apprehension_site_landmark  \\\n",
       "0    MALE                     HBG GENERAL AREA, NON-SPECIFIC   \n",
       "1    MALE                    HARRIS COUNTY JAIL, HOUSTON, TX   \n",
       "2    MALE                          FORT DIX EAST, NEW JERSEY   \n",
       "3  FEMALE                     SPM GENERAL AREA, NON-SPECIFIC   \n",
       "4    MALE  MIAMI DADE COUNTY JAIL TURNER GUILFORD KNIGHT ...   \n",
       "\n",
       "                          unique_identifier             county  \\\n",
       "0  0000b34edd657d516c02b13a7c352d62d0effcb6               None   \n",
       "1  0000ba6e459998a6046d185d82cf4349de1479d0      HARRIS COUNTY   \n",
       "2  0000c3d23fb0e444864559575900d410c4e8490f               None   \n",
       "3  0000d3dbf8033b5f209f6547ffee5b84feb4f599               None   \n",
       "4  000104d730bf021326c6dc0deb3dd575304136b5  MIAMI DADE COUNTY   \n",
       "\n",
       "                     jail prison                facility  \n",
       "0                     NaN    NaN                    None  \n",
       "1      HARRIS COUNTY JAIL    NaN      HARRIS COUNTY JAIL  \n",
       "2                     NaN    NaN                    None  \n",
       "3                     NaN    NaN                    None  \n",
       "4  MIAMI DADE COUNTY JAIL    NaN  MIAMI DADE COUNTY JAIL  "
      ]
     },
     "execution_count": 17,
     "metadata": {},
     "output_type": "execute_result"
    }
   ],
   "source": [
    "arrests_df.head()"
   ]
  },
  {
   "cell_type": "markdown",
   "id": "1b0e0150-712b-4955-b070-fefefc663bfe",
   "metadata": {},
   "source": [
    "#### Extracting city, state with county, if it exists:\n",
    "\n",
    "Would also be good to capture city, state info with the county if it exists, because e.g. there is a `KENT COUNTY JAIL` in Grand Rapids, MI, and in Maryland\n",
    "\n",
    "First, checking whether we need to capture this information..."
   ]
  },
  {
   "cell_type": "code",
   "execution_count": 27,
   "id": "78a64092-d486-4f09-ab1f-05580ac2234e",
   "metadata": {},
   "outputs": [
    {
     "data": {
      "text/plain": [
       "county\n",
       "MONTOUR COUNTY        0\n",
       "AVERY COUNTY          0\n",
       "WASHITA COUNTY        0\n",
       "DEAF SMITH COUNTY     0\n",
       "MARIN COUNTY          0\n",
       "                     ..\n",
       "LEE COUNTY            9\n",
       "MADISON COUNTY        9\n",
       "JEFFERSON COUNTY     10\n",
       "FRANKLIN COUNTY      11\n",
       "WASHINGTON COUNTY    14\n",
       "Name: apprehension_state, Length: 899, dtype: int64"
      ]
     },
     "execution_count": 27,
     "metadata": {},
     "output_type": "execute_result"
    }
   ],
   "source": [
    "arrests_df.groupby('county')['apprehension_state'].nunique().sort_values()"
   ]
  },
  {
   "cell_type": "code",
   "execution_count": 29,
   "id": "6838c414-854a-47e0-bc03-e51669b6c96c",
   "metadata": {},
   "outputs": [
    {
     "data": {
      "text/plain": [
       "array(['WASHINGTON COUNTY JAIL',\n",
       "       'WASHINGTON COUNTY CORRECTIONAL FACILITY',\n",
       "       'WASHINGTON COUNTY JAIL, UT',\n",
       "       'WASHINGTON COUNTY SHERIFF, ILLINOIS',\n",
       "       'WASHINGTON COUNTY JAIL, TN', 'WASHINGTON COUNTY JAIL, MN',\n",
       "       'A - WASHINGTON COUNTY JAIL', 'WASHINGTON COUNTY JAIL ID',\n",
       "       'A - WASHINGTON COUNTY GENERAL AREA',\n",
       "       'WASHINGTON COUNTY PROBATION AND PAROLE',\n",
       "       'WASHINGTON COUNTY FUGITIVE OPERATIONS',\n",
       "       'WASHINGTON COUNTY DETENTION CENTER', 'WASHINGTON COUNTY MD',\n",
       "       'WASHINGTON COUNTY JAIL, IA', 'WASHINGTON COUNTY, MS',\n",
       "       'WASHINGTON COUNTY', 'A-WASHINGTON COUNTY JAIL',\n",
       "       'WASHINGTON COUNTY GENERAL AREA ID', 'WASHINGTON COUNTY JAIL, NE'],\n",
       "      dtype=object)"
      ]
     },
     "execution_count": 29,
     "metadata": {},
     "output_type": "execute_result"
    }
   ],
   "source": [
    "arrests_df[arrests_df['apprehension_site_landmark'].fillna('').str.contains('WASHINGTON COUNTY')]['apprehension_site_landmark'].unique()"
   ]
  },
  {
   "cell_type": "markdown",
   "id": "f394e11c-bc16-4a88-a85a-a2f02b6639bf",
   "metadata": {},
   "source": [
    "So here we can see there are multiple county jails called \"Washington County Jail\", one in Utah, Tennessee, Idaho, Minnesota etc. - so we do need to make sure we extract the information if it is there.\n",
    "\n",
    "Note - data limitation - sometimes it just says \"WASHINGTON COUNTY JAIL\", without the relevant state information, so that could refer many different places"
   ]
  },
  {
   "cell_type": "code",
   "execution_count": 54,
   "id": "00644914-736e-4ca1-9bd6-af5eb66b2b08",
   "metadata": {},
   "outputs": [],
   "source": [
    "city_state_expression = r\",(\\s+\\w.*$)\""
   ]
  },
  {
   "cell_type": "markdown",
   "id": "147d7546-a69e-4073-b7b5-44eb93339632",
   "metadata": {
    "jp-MarkdownHeadingCollapsed": true
   },
   "source": [
    "(regex worked out [here](https://regex101.com/r/RTktg8/1))"
   ]
  },
  {
   "cell_type": "code",
   "execution_count": 55,
   "id": "58917cdd-091f-4b6f-8f2b-465b60d66cf7",
   "metadata": {},
   "outputs": [
    {
     "data": {
      "text/plain": [
       "', GRAND RAPIDS, MI'"
      ]
     },
     "execution_count": 55,
     "metadata": {},
     "output_type": "execute_result"
    }
   ],
   "source": [
    "re.search(city_state_expression, 'KENT COUNTY JAIL, GRAND RAPIDS, MI').group(0)"
   ]
  },
  {
   "cell_type": "code",
   "execution_count": 59,
   "id": "47ad21f3-3d76-42e0-91bc-b13b457b6587",
   "metadata": {},
   "outputs": [],
   "source": [
    "arrests_df['other_facility_loc_info'] = arrests_df['apprehension_site_landmark'].str.extract(city_state_expression)"
   ]
  },
  {
   "cell_type": "code",
   "execution_count": 62,
   "id": "ca125eb8-248c-4dcc-b0b8-f234e71788f5",
   "metadata": {},
   "outputs": [],
   "source": [
    "arrests_df['other_facility_loc_info'] = np.where(\n",
    "                        ~arrests_df['facility'].isna(), arrests_df['other_facility_loc_info'], None)"
   ]
  },
  {
   "cell_type": "code",
   "execution_count": 64,
   "id": "bce58569-eda6-4ea0-b9df-d6ef766b6a3d",
   "metadata": {},
   "outputs": [
    {
     "data": {
      "text/html": [
       "<div>\n",
       "<style scoped>\n",
       "    .dataframe tbody tr th:only-of-type {\n",
       "        vertical-align: middle;\n",
       "    }\n",
       "\n",
       "    .dataframe tbody tr th {\n",
       "        vertical-align: top;\n",
       "    }\n",
       "\n",
       "    .dataframe thead th {\n",
       "        text-align: right;\n",
       "    }\n",
       "</style>\n",
       "<table border=\"1\" class=\"dataframe\">\n",
       "  <thead>\n",
       "    <tr style=\"text-align: right;\">\n",
       "      <th></th>\n",
       "      <th>apprehension_date</th>\n",
       "      <th>apprehension_state</th>\n",
       "      <th>apprehension_aor</th>\n",
       "      <th>final_program</th>\n",
       "      <th>apprehension_method</th>\n",
       "      <th>apprehension_criminality</th>\n",
       "      <th>case_status</th>\n",
       "      <th>case_category</th>\n",
       "      <th>departed_date</th>\n",
       "      <th>departure_country</th>\n",
       "      <th>...</th>\n",
       "      <th>birth_year</th>\n",
       "      <th>citizenship_country</th>\n",
       "      <th>gender</th>\n",
       "      <th>apprehension_site_landmark</th>\n",
       "      <th>unique_identifier</th>\n",
       "      <th>county</th>\n",
       "      <th>jail</th>\n",
       "      <th>prison</th>\n",
       "      <th>facility</th>\n",
       "      <th>other_facility_loc_info</th>\n",
       "    </tr>\n",
       "  </thead>\n",
       "  <tbody>\n",
       "    <tr>\n",
       "      <th>0</th>\n",
       "      <td>2024-08-07 09:43:00</td>\n",
       "      <td>VIRGINIA</td>\n",
       "      <td>WASHINGTON AREA OF RESPONSIBILITY</td>\n",
       "      <td>ERO CRIMINAL ALIEN PROGRAM</td>\n",
       "      <td>NON-CUSTODIAL ARREST</td>\n",
       "      <td>1 CONVICTED CRIMINAL</td>\n",
       "      <td>8-EXCLUDED/REMOVED - INADMISSIBILITY</td>\n",
       "      <td>[16] REINSTATED FINAL ORDER</td>\n",
       "      <td>2024-08-19</td>\n",
       "      <td>HONDURAS</td>\n",
       "      <td>...</td>\n",
       "      <td>1981</td>\n",
       "      <td>HONDURAS</td>\n",
       "      <td>MALE</td>\n",
       "      <td>HBG GENERAL AREA, NON-SPECIFIC</td>\n",
       "      <td>0000b34edd657d516c02b13a7c352d62d0effcb6</td>\n",
       "      <td>None</td>\n",
       "      <td>NaN</td>\n",
       "      <td>NaN</td>\n",
       "      <td>None</td>\n",
       "      <td>None</td>\n",
       "    </tr>\n",
       "    <tr>\n",
       "      <th>1</th>\n",
       "      <td>2024-10-19 08:33:00</td>\n",
       "      <td>TEXAS</td>\n",
       "      <td>HOUSTON AREA OF RESPONSIBILITY</td>\n",
       "      <td>ERO CRIMINAL ALIEN PROGRAM</td>\n",
       "      <td>CAP LOCAL INCARCERATION</td>\n",
       "      <td>1 CONVICTED CRIMINAL</td>\n",
       "      <td>6-DEPORTED/REMOVED - DEPORTABILITY</td>\n",
       "      <td>[16] REINSTATED FINAL ORDER</td>\n",
       "      <td>2024-10-22</td>\n",
       "      <td>MEXICO</td>\n",
       "      <td>...</td>\n",
       "      <td>1984</td>\n",
       "      <td>MEXICO</td>\n",
       "      <td>MALE</td>\n",
       "      <td>HARRIS COUNTY JAIL, HOUSTON, TX</td>\n",
       "      <td>0000ba6e459998a6046d185d82cf4349de1479d0</td>\n",
       "      <td>HARRIS COUNTY</td>\n",
       "      <td>HARRIS COUNTY JAIL</td>\n",
       "      <td>NaN</td>\n",
       "      <td>HARRIS COUNTY JAIL</td>\n",
       "      <td>HOUSTON, TX</td>\n",
       "    </tr>\n",
       "    <tr>\n",
       "      <th>2</th>\n",
       "      <td>2025-04-15 10:08:00</td>\n",
       "      <td>NEW JERSEY</td>\n",
       "      <td>NEWARK AREA OF RESPONSIBILITY</td>\n",
       "      <td>ERO CRIMINAL ALIEN PROGRAM</td>\n",
       "      <td>CAP FEDERAL INCARCERATION</td>\n",
       "      <td>1 CONVICTED CRIMINAL</td>\n",
       "      <td>8-EXCLUDED/REMOVED - INADMISSIBILITY</td>\n",
       "      <td>[16] REINSTATED FINAL ORDER</td>\n",
       "      <td>2025-06-10</td>\n",
       "      <td>DOMINICAN REPUBLIC</td>\n",
       "      <td>...</td>\n",
       "      <td>1988</td>\n",
       "      <td>DOMINICAN REPUBLIC</td>\n",
       "      <td>MALE</td>\n",
       "      <td>FORT DIX EAST, NEW JERSEY</td>\n",
       "      <td>0000c3d23fb0e444864559575900d410c4e8490f</td>\n",
       "      <td>None</td>\n",
       "      <td>NaN</td>\n",
       "      <td>NaN</td>\n",
       "      <td>None</td>\n",
       "      <td>None</td>\n",
       "    </tr>\n",
       "    <tr>\n",
       "      <th>3</th>\n",
       "      <td>2025-06-03 09:20:00</td>\n",
       "      <td>MINNESOTA</td>\n",
       "      <td>ST. PAUL AREA OF RESPONSIBILITY</td>\n",
       "      <td>FUGITIVE OPERATIONS</td>\n",
       "      <td>NON-CUSTODIAL ARREST</td>\n",
       "      <td>3 OTHER IMMIGRATION VIOLATOR</td>\n",
       "      <td>ACTIVE</td>\n",
       "      <td>[8G] EXPEDITED REMOVAL - CREDIBLE FEAR REFERRAL</td>\n",
       "      <td>NaT</td>\n",
       "      <td>NaN</td>\n",
       "      <td>...</td>\n",
       "      <td>1985</td>\n",
       "      <td>COLOMBIA</td>\n",
       "      <td>FEMALE</td>\n",
       "      <td>SPM GENERAL AREA, NON-SPECIFIC</td>\n",
       "      <td>0000d3dbf8033b5f209f6547ffee5b84feb4f599</td>\n",
       "      <td>None</td>\n",
       "      <td>NaN</td>\n",
       "      <td>NaN</td>\n",
       "      <td>None</td>\n",
       "      <td>None</td>\n",
       "    </tr>\n",
       "    <tr>\n",
       "      <th>4</th>\n",
       "      <td>2025-01-21 05:41:00</td>\n",
       "      <td>NaN</td>\n",
       "      <td>MIAMI AREA OF RESPONSIBILITY</td>\n",
       "      <td>ERO CRIMINAL ALIEN PROGRAM</td>\n",
       "      <td>CAP LOCAL INCARCERATION</td>\n",
       "      <td>2 PENDING CRIMINAL CHARGES</td>\n",
       "      <td>3-VOLUNTARY DEPARTURE CONFIRMED</td>\n",
       "      <td>[8C] EXCLUDABLE / INADMISSIBLE - ADMINISTRATIV...</td>\n",
       "      <td>2025-02-01</td>\n",
       "      <td>MEXICO</td>\n",
       "      <td>...</td>\n",
       "      <td>1983</td>\n",
       "      <td>MEXICO</td>\n",
       "      <td>MALE</td>\n",
       "      <td>MIAMI DADE COUNTY JAIL TURNER GUILFORD KNIGHT ...</td>\n",
       "      <td>000104d730bf021326c6dc0deb3dd575304136b5</td>\n",
       "      <td>MIAMI DADE COUNTY</td>\n",
       "      <td>MIAMI DADE COUNTY JAIL</td>\n",
       "      <td>NaN</td>\n",
       "      <td>MIAMI DADE COUNTY JAIL</td>\n",
       "      <td>None</td>\n",
       "    </tr>\n",
       "  </tbody>\n",
       "</table>\n",
       "<p>5 rows × 21 columns</p>\n",
       "</div>"
      ],
      "text/plain": [
       "    apprehension_date apprehension_state                   apprehension_aor  \\\n",
       "0 2024-08-07 09:43:00           VIRGINIA  WASHINGTON AREA OF RESPONSIBILITY   \n",
       "1 2024-10-19 08:33:00              TEXAS     HOUSTON AREA OF RESPONSIBILITY   \n",
       "2 2025-04-15 10:08:00         NEW JERSEY      NEWARK AREA OF RESPONSIBILITY   \n",
       "3 2025-06-03 09:20:00          MINNESOTA    ST. PAUL AREA OF RESPONSIBILITY   \n",
       "4 2025-01-21 05:41:00                NaN       MIAMI AREA OF RESPONSIBILITY   \n",
       "\n",
       "                final_program        apprehension_method  \\\n",
       "0  ERO CRIMINAL ALIEN PROGRAM       NON-CUSTODIAL ARREST   \n",
       "1  ERO CRIMINAL ALIEN PROGRAM    CAP LOCAL INCARCERATION   \n",
       "2  ERO CRIMINAL ALIEN PROGRAM  CAP FEDERAL INCARCERATION   \n",
       "3         FUGITIVE OPERATIONS       NON-CUSTODIAL ARREST   \n",
       "4  ERO CRIMINAL ALIEN PROGRAM    CAP LOCAL INCARCERATION   \n",
       "\n",
       "       apprehension_criminality                           case_status  \\\n",
       "0          1 CONVICTED CRIMINAL  8-EXCLUDED/REMOVED - INADMISSIBILITY   \n",
       "1          1 CONVICTED CRIMINAL    6-DEPORTED/REMOVED - DEPORTABILITY   \n",
       "2          1 CONVICTED CRIMINAL  8-EXCLUDED/REMOVED - INADMISSIBILITY   \n",
       "3  3 OTHER IMMIGRATION VIOLATOR                                ACTIVE   \n",
       "4    2 PENDING CRIMINAL CHARGES       3-VOLUNTARY DEPARTURE CONFIRMED   \n",
       "\n",
       "                                       case_category departed_date  \\\n",
       "0                        [16] REINSTATED FINAL ORDER    2024-08-19   \n",
       "1                        [16] REINSTATED FINAL ORDER    2024-10-22   \n",
       "2                        [16] REINSTATED FINAL ORDER    2025-06-10   \n",
       "3    [8G] EXPEDITED REMOVAL - CREDIBLE FEAR REFERRAL           NaT   \n",
       "4  [8C] EXCLUDABLE / INADMISSIBLE - ADMINISTRATIV...    2025-02-01   \n",
       "\n",
       "    departure_country  ... birth_year  citizenship_country  gender  \\\n",
       "0            HONDURAS  ...       1981             HONDURAS    MALE   \n",
       "1              MEXICO  ...       1984               MEXICO    MALE   \n",
       "2  DOMINICAN REPUBLIC  ...       1988   DOMINICAN REPUBLIC    MALE   \n",
       "3                 NaN  ...       1985             COLOMBIA  FEMALE   \n",
       "4              MEXICO  ...       1983               MEXICO    MALE   \n",
       "\n",
       "                          apprehension_site_landmark  \\\n",
       "0                     HBG GENERAL AREA, NON-SPECIFIC   \n",
       "1                    HARRIS COUNTY JAIL, HOUSTON, TX   \n",
       "2                          FORT DIX EAST, NEW JERSEY   \n",
       "3                     SPM GENERAL AREA, NON-SPECIFIC   \n",
       "4  MIAMI DADE COUNTY JAIL TURNER GUILFORD KNIGHT ...   \n",
       "\n",
       "                          unique_identifier             county  \\\n",
       "0  0000b34edd657d516c02b13a7c352d62d0effcb6               None   \n",
       "1  0000ba6e459998a6046d185d82cf4349de1479d0      HARRIS COUNTY   \n",
       "2  0000c3d23fb0e444864559575900d410c4e8490f               None   \n",
       "3  0000d3dbf8033b5f209f6547ffee5b84feb4f599               None   \n",
       "4  000104d730bf021326c6dc0deb3dd575304136b5  MIAMI DADE COUNTY   \n",
       "\n",
       "                     jail prison                facility  \\\n",
       "0                     NaN    NaN                    None   \n",
       "1      HARRIS COUNTY JAIL    NaN      HARRIS COUNTY JAIL   \n",
       "2                     NaN    NaN                    None   \n",
       "3                     NaN    NaN                    None   \n",
       "4  MIAMI DADE COUNTY JAIL    NaN  MIAMI DADE COUNTY JAIL   \n",
       "\n",
       "  other_facility_loc_info  \n",
       "0                    None  \n",
       "1             HOUSTON, TX  \n",
       "2                    None  \n",
       "3                    None  \n",
       "4                    None  \n",
       "\n",
       "[5 rows x 21 columns]"
      ]
     },
     "execution_count": 64,
     "metadata": {},
     "output_type": "execute_result"
    }
   ],
   "source": [
    "arrests_df.head()"
   ]
  },
  {
   "cell_type": "code",
   "execution_count": 68,
   "id": "14386fd2-e599-4b87-9fa4-bd9e72e45922",
   "metadata": {},
   "outputs": [
    {
     "data": {
      "text/html": [
       "<div>\n",
       "<style scoped>\n",
       "    .dataframe tbody tr th:only-of-type {\n",
       "        vertical-align: middle;\n",
       "    }\n",
       "\n",
       "    .dataframe tbody tr th {\n",
       "        vertical-align: top;\n",
       "    }\n",
       "\n",
       "    .dataframe thead th {\n",
       "        text-align: right;\n",
       "    }\n",
       "</style>\n",
       "<table border=\"1\" class=\"dataframe\">\n",
       "  <thead>\n",
       "    <tr style=\"text-align: right;\">\n",
       "      <th></th>\n",
       "      <th>apprehension_site_landmark</th>\n",
       "      <th>county</th>\n",
       "      <th>other_facility_loc_info</th>\n",
       "    </tr>\n",
       "  </thead>\n",
       "  <tbody>\n",
       "    <tr>\n",
       "      <th>262</th>\n",
       "      <td>WASHINGTON COUNTY JAIL</td>\n",
       "      <td>WASHINGTON COUNTY</td>\n",
       "      <td>None</td>\n",
       "    </tr>\n",
       "    <tr>\n",
       "      <th>836</th>\n",
       "      <td>WASHINGTON COUNTY CORRECTIONAL FACILITY</td>\n",
       "      <td>None</td>\n",
       "      <td>None</td>\n",
       "    </tr>\n",
       "    <tr>\n",
       "      <th>2610</th>\n",
       "      <td>WASHINGTON COUNTY JAIL, UT</td>\n",
       "      <td>WASHINGTON COUNTY</td>\n",
       "      <td>UT</td>\n",
       "    </tr>\n",
       "    <tr>\n",
       "      <th>7361</th>\n",
       "      <td>WASHINGTON COUNTY SHERIFF, ILLINOIS</td>\n",
       "      <td>None</td>\n",
       "      <td>None</td>\n",
       "    </tr>\n",
       "    <tr>\n",
       "      <th>8011</th>\n",
       "      <td>WASHINGTON COUNTY JAIL, TN</td>\n",
       "      <td>WASHINGTON COUNTY</td>\n",
       "      <td>TN</td>\n",
       "    </tr>\n",
       "    <tr>\n",
       "      <th>10827</th>\n",
       "      <td>WASHINGTON COUNTY JAIL, MN</td>\n",
       "      <td>WASHINGTON COUNTY</td>\n",
       "      <td>MN</td>\n",
       "    </tr>\n",
       "    <tr>\n",
       "      <th>12875</th>\n",
       "      <td>A - WASHINGTON COUNTY JAIL</td>\n",
       "      <td>WASHINGTON COUNTY</td>\n",
       "      <td>None</td>\n",
       "    </tr>\n",
       "    <tr>\n",
       "      <th>14167</th>\n",
       "      <td>WASHINGTON COUNTY JAIL ID</td>\n",
       "      <td>WASHINGTON COUNTY</td>\n",
       "      <td>None</td>\n",
       "    </tr>\n",
       "    <tr>\n",
       "      <th>18520</th>\n",
       "      <td>A - WASHINGTON COUNTY GENERAL AREA</td>\n",
       "      <td>None</td>\n",
       "      <td>None</td>\n",
       "    </tr>\n",
       "    <tr>\n",
       "      <th>27096</th>\n",
       "      <td>WASHINGTON COUNTY PROBATION AND PAROLE</td>\n",
       "      <td>None</td>\n",
       "      <td>None</td>\n",
       "    </tr>\n",
       "    <tr>\n",
       "      <th>28127</th>\n",
       "      <td>WASHINGTON COUNTY FUGITIVE OPERATIONS</td>\n",
       "      <td>None</td>\n",
       "      <td>None</td>\n",
       "    </tr>\n",
       "    <tr>\n",
       "      <th>28989</th>\n",
       "      <td>WASHINGTON COUNTY DETENTION CENTER</td>\n",
       "      <td>None</td>\n",
       "      <td>None</td>\n",
       "    </tr>\n",
       "    <tr>\n",
       "      <th>42213</th>\n",
       "      <td>WASHINGTON COUNTY MD</td>\n",
       "      <td>None</td>\n",
       "      <td>None</td>\n",
       "    </tr>\n",
       "    <tr>\n",
       "      <th>47399</th>\n",
       "      <td>WASHINGTON COUNTY JAIL, IA</td>\n",
       "      <td>WASHINGTON COUNTY</td>\n",
       "      <td>IA</td>\n",
       "    </tr>\n",
       "    <tr>\n",
       "      <th>62761</th>\n",
       "      <td>WASHINGTON COUNTY, MS</td>\n",
       "      <td>None</td>\n",
       "      <td>None</td>\n",
       "    </tr>\n",
       "    <tr>\n",
       "      <th>93258</th>\n",
       "      <td>WASHINGTON COUNTY</td>\n",
       "      <td>None</td>\n",
       "      <td>None</td>\n",
       "    </tr>\n",
       "    <tr>\n",
       "      <th>110852</th>\n",
       "      <td>A-WASHINGTON COUNTY JAIL</td>\n",
       "      <td>WASHINGTON COUNTY</td>\n",
       "      <td>None</td>\n",
       "    </tr>\n",
       "    <tr>\n",
       "      <th>132886</th>\n",
       "      <td>WASHINGTON COUNTY GENERAL AREA ID</td>\n",
       "      <td>None</td>\n",
       "      <td>None</td>\n",
       "    </tr>\n",
       "    <tr>\n",
       "      <th>142457</th>\n",
       "      <td>WASHINGTON COUNTY JAIL, NE</td>\n",
       "      <td>WASHINGTON COUNTY</td>\n",
       "      <td>NE</td>\n",
       "    </tr>\n",
       "  </tbody>\n",
       "</table>\n",
       "</div>"
      ],
      "text/plain": [
       "                     apprehension_site_landmark             county  \\\n",
       "262                      WASHINGTON COUNTY JAIL  WASHINGTON COUNTY   \n",
       "836     WASHINGTON COUNTY CORRECTIONAL FACILITY               None   \n",
       "2610                 WASHINGTON COUNTY JAIL, UT  WASHINGTON COUNTY   \n",
       "7361        WASHINGTON COUNTY SHERIFF, ILLINOIS               None   \n",
       "8011                 WASHINGTON COUNTY JAIL, TN  WASHINGTON COUNTY   \n",
       "10827                WASHINGTON COUNTY JAIL, MN  WASHINGTON COUNTY   \n",
       "12875                A - WASHINGTON COUNTY JAIL  WASHINGTON COUNTY   \n",
       "14167                 WASHINGTON COUNTY JAIL ID  WASHINGTON COUNTY   \n",
       "18520        A - WASHINGTON COUNTY GENERAL AREA               None   \n",
       "27096    WASHINGTON COUNTY PROBATION AND PAROLE               None   \n",
       "28127     WASHINGTON COUNTY FUGITIVE OPERATIONS               None   \n",
       "28989        WASHINGTON COUNTY DETENTION CENTER               None   \n",
       "42213                      WASHINGTON COUNTY MD               None   \n",
       "47399                WASHINGTON COUNTY JAIL, IA  WASHINGTON COUNTY   \n",
       "62761                     WASHINGTON COUNTY, MS               None   \n",
       "93258                         WASHINGTON COUNTY               None   \n",
       "110852                 A-WASHINGTON COUNTY JAIL  WASHINGTON COUNTY   \n",
       "132886        WASHINGTON COUNTY GENERAL AREA ID               None   \n",
       "142457               WASHINGTON COUNTY JAIL, NE  WASHINGTON COUNTY   \n",
       "\n",
       "       other_facility_loc_info  \n",
       "262                       None  \n",
       "836                       None  \n",
       "2610                        UT  \n",
       "7361                      None  \n",
       "8011                        TN  \n",
       "10827                       MN  \n",
       "12875                     None  \n",
       "14167                     None  \n",
       "18520                     None  \n",
       "27096                     None  \n",
       "28127                     None  \n",
       "28989                     None  \n",
       "42213                     None  \n",
       "47399                       IA  \n",
       "62761                     None  \n",
       "93258                     None  \n",
       "110852                    None  \n",
       "132886                    None  \n",
       "142457                      NE  "
      ]
     },
     "execution_count": 68,
     "metadata": {},
     "output_type": "execute_result"
    }
   ],
   "source": [
    "arrests_df[arrests_df['apprehension_site_landmark'].fillna('').str.contains('WASHINGTON COUNTY')][['apprehension_site_landmark','county','other_facility_loc_info']].drop_duplicates()"
   ]
  },
  {
   "cell_type": "markdown",
   "id": "1ba290f6-79df-47bd-82a6-87d66e40f8e5",
   "metadata": {},
   "source": [
    "probably makes sense to combine the location info with the county name for ease of use in analysis:"
   ]
  },
  {
   "cell_type": "code",
   "execution_count": 70,
   "id": "dcf77932-62f1-4ef7-8390-1d1c5eb9c287",
   "metadata": {},
   "outputs": [],
   "source": [
    "arrests_df['county'] = arrests_df['county'] + arrests_df['other_facility_loc_info']"
   ]
  },
  {
   "cell_type": "code",
   "execution_count": 76,
   "id": "1d78cf84-35ba-47b7-9c63-706fcd62b0c9",
   "metadata": {
    "scrolled": true
   },
   "outputs": [],
   "source": [
    "arrests_df.drop(['jail','prison', 'other_facility_loc_info'], axis=1)\n",
    "\n",
    "arrests_df.to_csv(data/'arrests_with_facility_county.csv', index=False)"
   ]
  },
  {
   "cell_type": "markdown",
   "id": "2072f082-3d85-4d9c-b76a-43197573a9d0",
   "metadata": {},
   "source": [
    "#### Next steps for this work\n",
    "\n",
    "There is other potentially important information in Apprehension Site Landmark that could be extracted to add to the investigation:\n",
    "* Potentially informative codes, e.g. CAP\n",
    "* Other facilities not captured by Prison and Jail filters"
   ]
  }
 ],
 "metadata": {
  "kernelspec": {
   "display_name": ".env",
   "language": "python",
   "name": ".env"
  },
  "language_info": {
   "codemirror_mode": {
    "name": "ipython",
    "version": 3
   },
   "file_extension": ".py",
   "mimetype": "text/x-python",
   "name": "python",
   "nbconvert_exporter": "python",
   "pygments_lexer": "ipython3",
   "version": "3.8.10"
  }
 },
 "nbformat": 4,
 "nbformat_minor": 5
}
